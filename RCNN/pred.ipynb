{
 "cells": [
  {
   "cell_type": "code",
   "execution_count": 14,
   "metadata": {},
   "outputs": [],
   "source": [
    "import pandas as pd\n",
    "import numpy as np\n",
    "import cv2\n",
    "import os\n",
    "import re\n",
    "import albumentations as A\n",
    "from albumentations.pytorch.transforms import ToTensorV2\n",
    "\n",
    "import torch\n",
    "import torchvision\n",
    "\n",
    "import matplotlib.pyplot as plt\n",
    "\n",
    "from torchvision.models.detection.faster_rcnn import FastRCNNPredictor\n",
    "\n",
    "from torch.utils.data import DataLoader, Dataset\n",
    "\n",
    "from matplotlib import pyplot as plt\n",
    "\n",
    "from xml.etree import ElementTree as et"
   ]
  },
  {
   "cell_type": "code",
   "execution_count": 15,
   "metadata": {},
   "outputs": [
    {
     "data": {
      "text/plain": [
       "<All keys matched successfully>"
      ]
     },
     "execution_count": 15,
     "metadata": {},
     "output_type": "execute_result"
    }
   ],
   "source": [
    "device = torch.device('cuda' if torch.cuda.is_available() else 'cpu')\n",
    "\n",
    "# Load your model\n",
    "model = torchvision.models.detection.fasterrcnn_resnet50_fpn(pretrained=True)\n",
    "in_features = model.roi_heads.box_predictor.cls_score.in_features\n",
    "model.roi_heads.box_predictor = FastRCNNPredictor(in_features, 2)\n",
    "model.load_state_dict(torch.load(\"fasterrcnn_ap85.pth\", map_location=device))"
   ]
  },
  {
   "cell_type": "code",
   "execution_count": 16,
   "metadata": {},
   "outputs": [],
   "source": [
    "# Move the model to the appropriate device\n",
    "model = model.to(device)"
   ]
  },
  {
   "cell_type": "code",
   "execution_count": 17,
   "metadata": {},
   "outputs": [],
   "source": [
    "def predict(images):\n",
    "    model.eval()\n",
    "    images = list(image.to(device) for image in images)\n",
    "    outputs = model(images)\n",
    "    return outputs"
   ]
  },
  {
   "cell_type": "code",
   "execution_count": 18,
   "metadata": {},
   "outputs": [],
   "source": [
    "files_dir = 'data/test'\n",
    "img_name = 'T0006_XM_20140814090050_01.jpg'\n",
    "img_id = img_name.split('.')[0]\n",
    "imagepath = image_path = os.path.join(files_dir, img_name)\n",
    "img = cv2.imread(image_path)\n",
    "img_rgb = cv2.cvtColor(img, cv2.COLOR_BGR2RGB).astype(np.float32)\n",
    "img_res = cv2.resize(img_rgb, (1024, 1024), cv2.INTER_AREA)\n",
    "img_res /= 255.0\n",
    "img_rgb /= 255.0"
   ]
  },
  {
   "cell_type": "code",
   "execution_count": 19,
   "metadata": {},
   "outputs": [],
   "source": [
    "def draw_boxes_on_image(boxes, images):\n",
    "\n",
    "    for box in boxes:\n",
    "        cv2.rectangle(images,\n",
    "                      (box[0], box[1]),\n",
    "                      (box[2], box[3]),\n",
    "                      (220, 0, 0), 3)\n",
    "\n",
    "    fig, ax = plt.subplots(1, 1, figsize=(16, 8))\n",
    "    ax.set_axis_off()\n",
    "    ax.imshow(images)\n",
    "    print(f\"Tassel count: {len(boxes)}\")\n",
    "    plt.show()"
   ]
  },
  {
   "cell_type": "code",
   "execution_count": 20,
   "metadata": {},
   "outputs": [],
   "source": [
    "output_directory = 'roi/'\n",
    "def extract_roi(img, boxes):\n",
    "    for i, box in enumerate(boxes):\n",
    "        x1 = box[0]\n",
    "        y1 = box[1]\n",
    "        x2 = box[2]\n",
    "        y2 = box[3]\n",
    "        # Extract the region of interest (ROI)\n",
    "        roi = img[y1:y2, x1:x2]\n",
    "\n",
    "        # Save the ROI\n",
    "        output_path = os.path.join(output_directory, f'{img_id}_{i+1}.jpg')\n",
    "        cv2.imwrite(output_path, roi)"
   ]
  },
  {
   "cell_type": "code",
   "execution_count": 21,
   "metadata": {},
   "outputs": [],
   "source": [
    "def resize_bbox(original_width, original_height, boxes):\n",
    "    for box in boxes:\n",
    "        x1 = box[0]\n",
    "        y1 = box[1]\n",
    "        x2 = box[2]\n",
    "        y2 = box[3]\n",
    "        width_scale = original_width / 1024\n",
    "        height_scale = original_height / 1024\n",
    "        # Resize bounding box coordinates\n",
    "        resized_x1 = int(x1 * width_scale)\n",
    "        resized_y1 = int(y1 * height_scale)\n",
    "        resized_x2 = int(x2 * width_scale)\n",
    "        resized_y2 = int(y2 * height_scale)\n",
    "        box[0] = resized_x1\n",
    "        box[1] = resized_y1\n",
    "        box[2] = resized_x2\n",
    "        box[3] = resized_y2\n",
    "    return boxes"
   ]
  },
  {
   "cell_type": "code",
   "execution_count": 22,
   "metadata": {},
   "outputs": [],
   "source": [
    "output = predict([torch.tensor(img_res, dtype=torch.float32).permute(2, 0, 1).to(device)])\n",
    "detection_threshold = 0.6\n",
    "prediction_boxes = output[0]['boxes'].data.cpu().numpy()\n",
    "scores = output[0]['scores'].data.cpu().numpy()\n",
    "\n",
    "prediction_boxes = prediction_boxes[scores >= detection_threshold].astype(np.int32)"
   ]
  },
  {
   "cell_type": "code",
   "execution_count": 23,
   "metadata": {},
   "outputs": [
    {
     "data": {
      "text/plain": [
       "(2848, 4272, 3)"
      ]
     },
     "execution_count": 23,
     "metadata": {},
     "output_type": "execute_result"
    }
   ],
   "source": [
    "img.shape"
   ]
  },
  {
   "cell_type": "code",
   "execution_count": 24,
   "metadata": {},
   "outputs": [],
   "source": [
    "prediction_boxes = resize_bbox(img.shape[1], img.shape[0], prediction_boxes)"
   ]
  },
  {
   "cell_type": "code",
   "execution_count": 25,
   "metadata": {},
   "outputs": [],
   "source": [
    "#print(\"PREDICTED OUTPUT\\n\")\n",
    "#draw_boxes_on_image(prediction_boxes, img_rgb)"
   ]
  },
  {
   "cell_type": "code",
   "execution_count": 26,
   "metadata": {},
   "outputs": [],
   "source": [
    "extract_roi(img, prediction_boxes)"
   ]
  },
  {
   "cell_type": "code",
   "execution_count": null,
   "metadata": {},
   "outputs": [],
   "source": []
  }
 ],
 "metadata": {
  "kernelspec": {
   "display_name": "Python 3",
   "language": "python",
   "name": "python3"
  },
  "language_info": {
   "codemirror_mode": {
    "name": "ipython",
    "version": 3
   },
   "file_extension": ".py",
   "mimetype": "text/x-python",
   "name": "python",
   "nbconvert_exporter": "python",
   "pygments_lexer": "ipython3",
   "version": "3.10.13"
  }
 },
 "nbformat": 4,
 "nbformat_minor": 2
}
