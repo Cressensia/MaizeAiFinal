{
 "cells": [
  {
   "cell_type": "code",
   "execution_count": 2,
   "metadata": {},
   "outputs": [
    {
     "name": "stdout",
     "output_type": "stream",
     "text": [
      "Deleted T0001_XM_20130803160251_01.xml and its associated image.\n",
      "Deleted T0001_XM_20130804080252_01.xml and its associated image.\n",
      "Deleted T0001_XM_20130805130252_01.xml and its associated image.\n",
      "Deleted T0002_YM_20100728120218_01.xml and its associated image.\n",
      "Deleted T0002_YM_20100729100220_01.xml and its associated image.\n",
      "Deleted T0002_YM_20100730140218_01.xml and its associated image.\n",
      "Deleted T0002_YM_20100731120218_01.xml and its associated image.\n",
      "Deleted T0002_YM_20100808120218_01.xml and its associated image.\n",
      "Deleted T0002_YM_20100808140219_01.xml and its associated image.\n",
      "Deleted T0002_YM_20100809110218_01.xml and its associated image.\n",
      "Deleted T0002_YM_20100810160221_01.xml and its associated image.\n",
      "Deleted T0002_YM_20100811130220_01.xml and its associated image.\n",
      "Deleted T0006_XM_20120807100309_01.xml and its associated image.\n",
      "Deleted T0006_XM_20120807160304_01.xml and its associated image.\n",
      "Deleted XAM01_YM_20150725100254_01.xml and its associated image.\n"
     ]
    }
   ],
   "source": [
    "import os\n",
    "import xml.etree.ElementTree as ET\n",
    "\n",
    "dataset_path = \"RCNN/data/trainval\"\n",
    "\n",
    "for filename in os.listdir(dataset_path):\n",
    "    if filename.endswith(\".xml\"):\n",
    "        xml_path = os.path.join(dataset_path, filename)\n",
    "        image_path = os.path.join(dataset_path, filename.replace(\".xml\", \".jpg\"))\n",
    "\n",
    "        # Parse the XML file\n",
    "        tree = ET.parse(xml_path)\n",
    "        root = tree.getroot()\n",
    "\n",
    "        # Check if there is a <bndbox> element\n",
    "        if root.find(\".//bndbox\") is None:\n",
    "            # Delete the XML file\n",
    "            os.remove(xml_path)\n",
    "            \n",
    "            # Delete the associated image file\n",
    "            if os.path.exists(image_path):\n",
    "                os.remove(image_path)\n",
    "\n",
    "            print(f\"Deleted {filename} and its associated image.\")\n"
   ]
  }
 ],
 "metadata": {
  "kernelspec": {
   "display_name": "Python 3",
   "language": "python",
   "name": "python3"
  },
  "language_info": {
   "codemirror_mode": {
    "name": "ipython",
    "version": 3
   },
   "file_extension": ".py",
   "mimetype": "text/x-python",
   "name": "python",
   "nbconvert_exporter": "python",
   "pygments_lexer": "ipython3",
   "version": "3.10.13"
  }
 },
 "nbformat": 4,
 "nbformat_minor": 2
}
