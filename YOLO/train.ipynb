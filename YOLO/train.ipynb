{
 "cells": [
  {
   "cell_type": "code",
   "execution_count": null,
   "metadata": {},
   "outputs": [],
   "source": [
    "#Linux Only\n",
    "# !apt-get update && apt-get install ffmpeg libsm6 libxext6  -y"
   ]
  },
  {
   "cell_type": "code",
   "execution_count": null,
   "metadata": {},
   "outputs": [],
   "source": [
    "#MutilGPU Hack Fix (Linux Only)\n",
    "# !pip uninstall numpy -y\n",
    "# !pip install numpy -y \n",
    "# import numpy "
   ]
  },
  {
   "cell_type": "code",
   "execution_count": null,
   "metadata": {},
   "outputs": [],
   "source": [
    "# %pip install comet_ml\n",
    "import comet_ml \n",
    "comet_ml.init()"
   ]
  },
  {
   "cell_type": "code",
   "execution_count": null,
   "metadata": {},
   "outputs": [],
   "source": [
    "# %pip install ultralytics\n",
    "import ultralytics\n",
    "ultralytics.checks()"
   ]
  },
  {
   "cell_type": "code",
   "execution_count": null,
   "metadata": {},
   "outputs": [],
   "source": [
    "from ultralytics import YOLO\n",
    "\n",
    "# Load Yolo Model Size (s, m, l, x) or path to yolo model Note: OOM occurs with m,l,x sizes if not multi-GPU\n",
    "model = YOLO('yolov8l.yaml')  # build a new model from scratch\n",
    "model = YOLO('yolov8l.pt')  # load a pretrained model\n",
    "model = YOLO('yolov8l.yaml').load('yolov8l.pt') # build from YAML and transfer weights\n",
    "# Use the model\n",
    "results = model.train(data='data.yaml', epochs=1000 , imgsz=1024, pretrained=True, patience=101 )  # train the model\n"
   ]
  },
  {
   "cell_type": "code",
   "execution_count": null,
   "metadata": {},
   "outputs": [],
   "source": [
    "!Experiment.end(results)"
   ]
  },
  {
   "cell_type": "code",
   "execution_count": null,
   "metadata": {},
   "outputs": [],
   "source": [
    "from ultralytics import YOLO\n",
    "\n",
    "# Load a model\n",
    "model = YOLO('yolov8l.pt')  # load an official model\n",
    "model = YOLO('path/to/best.pt')  # load a custom model\n",
    "\n",
    "# Validate the model\n",
    "metrics = model.val()  # no arguments needed, dataset and settings remembered\n",
    "metrics.box.map    # map50-95\n",
    "metrics.box.map50  # map50\n",
    "metrics.box.map75  # map75\n",
    "metrics.box.maps   # a list contains map50-95 of each category"
   ]
  },
  {
   "cell_type": "code",
   "execution_count": null,
   "metadata": {},
   "outputs": [],
   "source": [
    "from ultralytics import YOLO\n",
    "# Load a pretrained YOLOv8n model\n",
    "model = YOLO('path/to/best.pt')\n",
    "# Define path to the image file\n",
    "source = 'path/to/image.jpg'\n",
    "# Run inference on the source\n",
    "results = model(source)  # list of Results objects"
   ]
  }
 ],
 "metadata": {
  "kernelspec": {
   "display_name": "base",
   "language": "python",
   "name": "python3"
  },
  "language_info": {
   "codemirror_mode": {
    "name": "ipython",
    "version": 3
   },
   "file_extension": ".py",
   "mimetype": "text/x-python",
   "name": "python",
   "nbconvert_exporter": "python",
   "pygments_lexer": "ipython3",
   "version": "3.9.12"
  }
 },
 "nbformat": 4,
 "nbformat_minor": 2
}
