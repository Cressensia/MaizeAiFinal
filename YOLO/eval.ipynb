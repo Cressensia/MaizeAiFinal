{
 "cells": [
  {
   "cell_type": "code",
   "execution_count": 1,
   "metadata": {},
   "outputs": [],
   "source": [
    "from ultralytics import YOLO\n",
    "model = YOLO('best.pt')"
   ]
  },
  {
   "cell_type": "code",
   "execution_count": 30,
   "metadata": {},
   "outputs": [
    {
     "name": "stdout",
     "output_type": "stream",
     "text": [
      "\n",
      "0: 704x1024 262 Maizes, 274.7ms\n",
      "Speed: 46.0ms preprocess, 274.7ms inference, 2.0ms postprocess per image at shape (1, 3, 704, 1024)\n",
      "\n",
      "0: 704x1024 141 Maizes, 49.5ms\n",
      "Speed: 5.1ms preprocess, 49.5ms inference, 1.0ms postprocess per image at shape (1, 3, 704, 1024)\n",
      "\n",
      "0: 704x1024 185 Maizes, 46.1ms\n",
      "Speed: 5.0ms preprocess, 46.1ms inference, 3.0ms postprocess per image at shape (1, 3, 704, 1024)\n",
      "\n",
      "0: 704x1024 124 Maizes, 45.5ms\n",
      "Speed: 5.0ms preprocess, 45.5ms inference, 2.0ms postprocess per image at shape (1, 3, 704, 1024)\n",
      "\n",
      "0: 704x1024 151 Maizes, 45.8ms\n",
      "Speed: 5.0ms preprocess, 45.8ms inference, 2.0ms postprocess per image at shape (1, 3, 704, 1024)\n",
      "\n",
      "0: 704x1024 110 Maizes, 46.0ms\n",
      "Speed: 4.0ms preprocess, 46.0ms inference, 2.0ms postprocess per image at shape (1, 3, 704, 1024)\n",
      "\n",
      "0: 704x1024 282 Maizes, 47.0ms\n",
      "Speed: 4.0ms preprocess, 47.0ms inference, 2.0ms postprocess per image at shape (1, 3, 704, 1024)\n",
      "\n",
      "0: 704x1024 198 Maizes, 45.5ms\n",
      "Speed: 4.0ms preprocess, 45.5ms inference, 2.0ms postprocess per image at shape (1, 3, 704, 1024)\n",
      "\n",
      "0: 704x1024 284 Maizes, 46.4ms\n",
      "Speed: 4.0ms preprocess, 46.4ms inference, 1.5ms postprocess per image at shape (1, 3, 704, 1024)\n",
      "\n",
      "0: 704x1024 206 Maizes, 46.5ms\n",
      "Speed: 4.0ms preprocess, 46.5ms inference, 1.0ms postprocess per image at shape (1, 3, 704, 1024)\n",
      "\n",
      "0: 704x1024 72 Maizes, 46.1ms\n",
      "Speed: 5.0ms preprocess, 46.1ms inference, 2.0ms postprocess per image at shape (1, 3, 704, 1024)\n",
      "\n",
      "0: 704x1024 207 Maizes, 46.9ms\n",
      "Speed: 4.0ms preprocess, 46.9ms inference, 1.5ms postprocess per image at shape (1, 3, 704, 1024)\n",
      "\n",
      "0: 704x1024 194 Maizes, 48.0ms\n",
      "Speed: 4.0ms preprocess, 48.0ms inference, 1.0ms postprocess per image at shape (1, 3, 704, 1024)\n",
      "\n",
      "0: 704x1024 76 Maizes, 47.0ms\n",
      "Speed: 4.0ms preprocess, 47.0ms inference, 2.0ms postprocess per image at shape (1, 3, 704, 1024)\n",
      "\n",
      "0: 704x1024 81 Maizes, 47.0ms\n",
      "Speed: 4.0ms preprocess, 47.0ms inference, 1.0ms postprocess per image at shape (1, 3, 704, 1024)\n",
      "\n",
      "0: 704x1024 73 Maizes, 47.0ms\n",
      "Speed: 4.6ms preprocess, 47.0ms inference, 2.0ms postprocess per image at shape (1, 3, 704, 1024)\n",
      "\n",
      "0: 704x1024 161 Maizes, 46.0ms\n",
      "Speed: 4.0ms preprocess, 46.0ms inference, 2.0ms postprocess per image at shape (1, 3, 704, 1024)\n",
      "\n",
      "0: 704x1024 116 Maizes, 46.7ms\n",
      "Speed: 3.5ms preprocess, 46.7ms inference, 1.0ms postprocess per image at shape (1, 3, 704, 1024)\n",
      "\n",
      "0: 704x1024 228 Maizes, 45.1ms\n",
      "Speed: 5.0ms preprocess, 45.1ms inference, 2.0ms postprocess per image at shape (1, 3, 704, 1024)\n",
      "\n",
      "0: 704x1024 300 Maizes, 46.5ms\n",
      "Speed: 4.0ms preprocess, 46.5ms inference, 2.0ms postprocess per image at shape (1, 3, 704, 1024)\n",
      "\n",
      "0: 704x1024 300 Maizes, 45.5ms\n",
      "Speed: 5.0ms preprocess, 45.5ms inference, 2.0ms postprocess per image at shape (1, 3, 704, 1024)\n",
      "\n",
      "0: 704x1024 300 Maizes, 45.5ms\n",
      "Speed: 4.0ms preprocess, 45.5ms inference, 2.0ms postprocess per image at shape (1, 3, 704, 1024)\n",
      "\n",
      "0: 704x1024 300 Maizes, 46.4ms\n",
      "Speed: 5.0ms preprocess, 46.4ms inference, 2.0ms postprocess per image at shape (1, 3, 704, 1024)\n",
      "\n",
      "0: 704x1024 300 Maizes, 46.0ms\n",
      "Speed: 4.0ms preprocess, 46.0ms inference, 2.0ms postprocess per image at shape (1, 3, 704, 1024)\n",
      "\n",
      "0: 704x1024 300 Maizes, 46.0ms\n",
      "Speed: 5.0ms preprocess, 46.0ms inference, 2.0ms postprocess per image at shape (1, 3, 704, 1024)\n",
      "\n",
      "0: 704x1024 216 Maizes, 46.0ms\n",
      "Speed: 4.0ms preprocess, 46.0ms inference, 2.0ms postprocess per image at shape (1, 3, 704, 1024)\n",
      "\n",
      "0: 704x1024 252 Maizes, 46.8ms\n",
      "Speed: 4.0ms preprocess, 46.8ms inference, 2.0ms postprocess per image at shape (1, 3, 704, 1024)\n",
      "\n",
      "0: 704x1024 158 Maizes, 46.0ms\n",
      "Speed: 4.0ms preprocess, 46.0ms inference, 1.0ms postprocess per image at shape (1, 3, 704, 1024)\n",
      "\n",
      "0: 704x1024 251 Maizes, 46.0ms\n",
      "Speed: 4.5ms preprocess, 46.0ms inference, 2.0ms postprocess per image at shape (1, 3, 704, 1024)\n",
      "\n",
      "0: 704x1024 184 Maizes, 45.4ms\n",
      "Speed: 5.0ms preprocess, 45.4ms inference, 2.0ms postprocess per image at shape (1, 3, 704, 1024)\n",
      "\n",
      "0: 704x1024 134 Maizes, 46.4ms\n",
      "Speed: 4.0ms preprocess, 46.4ms inference, 2.0ms postprocess per image at shape (1, 3, 704, 1024)\n"
     ]
    }
   ],
   "source": [
    "import os\n",
    "from PIL import Image\n",
    "\n",
    "def process_image(image_path):\n",
    "    try:\n",
    "        img = Image.open(image_path)\n",
    "        results = model(img, conf=0.5)\n",
    "        prediction = sum(len(result.boxes.xyxy) for result in results)\n",
    "        img.close()\n",
    "        return prediction\n",
    "    except Exception as e:\n",
    "        print(f\"Error processing image '{image_path}': {e}\")\n",
    "        return None\n",
    "\n",
    "def process_images(directory_path):\n",
    "    predictions = []\n",
    "\n",
    "    # Check if the directory exists\n",
    "    if not os.path.exists(directory_path):\n",
    "        print(f\"Directory '{directory_path}' does not exist.\")\n",
    "        return predictions\n",
    "\n",
    "    # Get all files in the directory\n",
    "    files = os.listdir(directory_path)\n",
    "\n",
    "    # Filter only image files (you can extend this list based on the image formats you want to include)\n",
    "    image_extensions = ['.jpg', '.jpeg', '.png', '.gif', '.bmp']\n",
    "    image_files = [file for file in files if any(file.lower().endswith(ext) for ext in image_extensions)]\n",
    "\n",
    "    # Process each image individually\n",
    "    for image_file in image_files:\n",
    "        img_id = image_file.split('.')[0]\n",
    "        image_path = os.path.join(directory_path, image_file)\n",
    "        prediction = process_image(image_path)\n",
    "        if prediction is not None:\n",
    "            predictions.append(prediction)\n",
    "\n",
    "    return predictions\n",
    "\n",
    "# Example usage\n",
    "directory_path = 'uav/test/images/'\n",
    "predictions = process_images(directory_path)"
   ]
  },
  {
   "cell_type": "code",
   "execution_count": 31,
   "metadata": {},
   "outputs": [],
   "source": [
    "def calculate_mre(predicted_values, true_values):\n",
    "    if len(predicted_values) != len(true_values):\n",
    "        raise ValueError(\"Lists must be of equal length\")\n",
    "\n",
    "    total_mre = 0\n",
    "\n",
    "    for predicted, true in zip(predicted_values, true_values):\n",
    "        if true != 0:\n",
    "            relative_error = abs((predicted - true) / true)\n",
    "            total_mre += relative_error\n",
    "\n",
    "    if len(true_values) > 0:\n",
    "        mean_mre = total_mre / len(true_values)\n",
    "        return mean_mre\n",
    "    else:\n",
    "        return 0  # Avoid division by zero if the lists are empty"
   ]
  },
  {
   "cell_type": "code",
   "execution_count": 32,
   "metadata": {},
   "outputs": [],
   "source": [
    "def count_bounding_boxes(directory_path):\n",
    "    total_bounding_boxes = []\n",
    "\n",
    "    # Iterate through all text files in the directory\n",
    "    for filename in os.listdir(directory_path):\n",
    "        if filename.endswith(\".txt\"):\n",
    "            file_path = os.path.join(directory_path, filename)\n",
    "\n",
    "            # Read the text file and count the lines\n",
    "            with open(file_path, 'r') as file:\n",
    "                bounding_box_count = sum(1 for line in file)\n",
    "\n",
    "            total_bounding_boxes.append(bounding_box_count)\n",
    "\n",
    "    return total_bounding_boxes\n",
    "\n",
    "# Example usage:\n",
    "directory_path = 'uav/test/labels/'\n",
    "gt = count_bounding_boxes(directory_path)\n"
   ]
  },
  {
   "cell_type": "code",
   "execution_count": 33,
   "metadata": {},
   "outputs": [],
   "source": [
    "def calculate_mae(predicted_values, true_values):\n",
    "    # Ensure the input lists have the same length\n",
    "    assert len(predicted_values) == len(true_values), \"Input lists must have the same length\"\n",
    "\n",
    "    # Calculate absolute differences for each example\n",
    "    absolute_differences = [abs(true - pred) for pred, true in zip(predicted_values, true_values)]\n",
    "\n",
    "    # Calculate the mean absolute error\n",
    "    mae = sum(absolute_differences) / len(absolute_differences)\n",
    "\n",
    "    return mae"
   ]
  },
  {
   "cell_type": "code",
   "execution_count": 34,
   "metadata": {},
   "outputs": [],
   "source": [
    "def calculate_rmse(predicted_values, true_values):\n",
    "    # Ensure the input lists have the same length\n",
    "    assert len(predicted_values) == len(true_values), \"Input lists must have the same length\"\n",
    "\n",
    "    # Calculate squared differences for each example\n",
    "    squared_differences = [(true - pred)**2 for pred, true in zip(predicted_values, true_values)]\n",
    "\n",
    "    # Calculate the mean squared error\n",
    "    mse = sum(squared_differences) / len(squared_differences)\n",
    "\n",
    "    return mse ** 0.5"
   ]
  },
  {
   "cell_type": "code",
   "execution_count": 35,
   "metadata": {},
   "outputs": [
    {
     "data": {
      "text/plain": [
       "30.35483870967742"
      ]
     },
     "execution_count": 35,
     "metadata": {},
     "output_type": "execute_result"
    }
   ],
   "source": [
    "calculate_mae(predictions, gt)"
   ]
  },
  {
   "cell_type": "code",
   "execution_count": 36,
   "metadata": {},
   "outputs": [
    {
     "data": {
      "text/plain": [
       "55.812185049503306"
      ]
     },
     "execution_count": 36,
     "metadata": {},
     "output_type": "execute_result"
    }
   ],
   "source": [
    "calculate_rmse(predictions, gt)"
   ]
  },
  {
   "cell_type": "code",
   "execution_count": 37,
   "metadata": {},
   "outputs": [
    {
     "data": {
      "text/plain": [
       "0.10270379561451563"
      ]
     },
     "execution_count": 37,
     "metadata": {},
     "output_type": "execute_result"
    }
   ],
   "source": [
    "calculate_mre(predictions, gt)"
   ]
  },
  {
   "cell_type": "code",
   "execution_count": null,
   "metadata": {},
   "outputs": [],
   "source": []
  },
  {
   "cell_type": "code",
   "execution_count": null,
   "metadata": {},
   "outputs": [],
   "source": []
  }
 ],
 "metadata": {
  "kernelspec": {
   "display_name": "Python 3 (ipykernel)",
   "language": "python",
   "name": "python3"
  },
  "language_info": {
   "codemirror_mode": {
    "name": "ipython",
    "version": 3
   },
   "file_extension": ".py",
   "mimetype": "text/x-python",
   "name": "python",
   "nbconvert_exporter": "python",
   "pygments_lexer": "ipython3",
   "version": "3.9.12"
  }
 },
 "nbformat": 4,
 "nbformat_minor": 2
}
